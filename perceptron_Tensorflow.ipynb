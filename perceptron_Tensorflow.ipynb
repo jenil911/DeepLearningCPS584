{
 "cells": [
  {
   "cell_type": "markdown",
   "metadata": {
    "id": "EehW9Yb1xJMg"
   },
   "source": [
    "## HW_1 CPS_584_M2\n",
    "\n",
    "### Jenil Sanjaykumar Pandya 1017921730\n",
    "### Pratham Ramkripal Yadav   1017895120 \n",
    "\n",
    " \n"
   ]
  },
  {
   "cell_type": "markdown",
   "metadata": {},
   "source": [
    "# Question 1 : Single Layer Neural Network"
   ]
  },
  {
   "cell_type": "markdown",
   "metadata": {},
   "source": [
    "#### This block of code imports necessary libraries for deep learning tasks, numerical computations, and data visualization using TensorFlow, NumPy, and Matplotlib respectively. It enables the usage of functions and tools provided by these libraries throughout the program."
   ]
  },
  {
   "cell_type": "code",
   "execution_count": 23,
   "metadata": {
    "id": "Gln_c-tWxcSF"
   },
   "outputs": [],
   "source": [
    "# Importing necessary libraries\n",
    "import tensorflow as tf  # Import TensorFlow library for deep learning tasks\n",
    "import numpy as np  # Import NumPy library for numerical computations\n",
    "import matplotlib.pyplot as plt  # Import Matplotlib library for data visualization, including colormaps\n"
   ]
  },
  {
   "cell_type": "markdown",
   "metadata": {
    "id": "sEB34FSHxpaz"
   },
   "source": [
    "#### This code initializes three arrays, X1, X2, and X3, representing different features of a dataset. Then, it stacks these arrays column-wise into a single array X using np.column_stack(). Finally, it checks the shape of the resulting array X.\n",
    "\n",
    "\n",
    "\n",
    "\n"
   ]
  },
  {
   "cell_type": "code",
   "execution_count": 24,
   "metadata": {
    "colab": {
     "base_uri": "https://localhost:8080/"
    },
    "id": "uL_ATDXIxwWx",
    "outputId": "9994dfa1-5811-4534-b5fe-d6d45d7c59fd"
   },
   "outputs": [
    {
     "data": {
      "text/plain": [
       "(8, 3)"
      ]
     },
     "execution_count": 24,
     "metadata": {},
     "output_type": "execute_result"
    }
   ],
   "source": [
    "# Initializing arrays for three features: X1, X2, and X3\n",
    "X1 = np.array([1, 1.5, 1.7, 1.4, -2, -2.1, -2.5, -1.7], dtype=np.float32)\n",
    "X2 = np.array([1, 1.5, 2.1, 1.8, -2, -1.7, -2.5, -1.9], dtype=np.float32)\n",
    "X3 = np.array([1, 1.2, 0.9, 1.1, 5, 5.5, 6, 5.8], dtype=np.float32)\n",
    "\n",
    "# Combining the feature arrays into a single dataset array X\n",
    "X = np.column_stack((X1, X2, X3))\n",
    "\n",
    "# Checking the shape of the dataset array X\n",
    "X.shape\n"
   ]
  },
  {
   "cell_type": "markdown",
   "metadata": {
    "id": "9245OsdcyhqL"
   },
   "source": [
    "#### Here, an array Y is created to represent the target feature for the dataset. It contains binary labels indicating two classes. The shape of array Y is then checked to verify the number of elements."
   ]
  },
  {
   "cell_type": "code",
   "execution_count": 25,
   "metadata": {
    "colab": {
     "base_uri": "https://localhost:8080/"
    },
    "id": "aJ7wV7Dlyk6H",
    "outputId": "d50b829e-5ace-4a4e-b681-79c48bf37b68"
   },
   "outputs": [
    {
     "data": {
      "text/plain": [
       "(8,)"
      ]
     },
     "execution_count": 25,
     "metadata": {},
     "output_type": "execute_result"
    }
   ],
   "source": [
    "# Defining Target Feature\n",
    "Y = np.array([1, 1, 1, 1, 0, 0, 0, 0], dtype=np.float32)\n",
    "\n",
    "# Checking the shape of Y\n",
    "Y.shape\n"
   ]
  },
  {
   "cell_type": "markdown",
   "metadata": {},
   "source": [
    "#### This part of the code defines a single-layer neural network model using TensorFlow's Keras API. The model is compiled with Adam optimizer and binary cross-entropy loss function. It is then trained on the dataset X with corresponding labels Y for 1000 epochs. Finally, it plots the loss curve over epochs to visualize the training process."
   ]
  },
  {
   "cell_type": "code",
   "execution_count": 26,
   "metadata": {
    "id": "drRxuSRky5PO"
   },
   "outputs": [
    {
     "data": {
      "image/png": "[encoded data removed]",
      "text/plain": [
       "<Figure size 640x480 with 1 Axes>"
      ]
     },
     "metadata": {},
     "output_type": "display_data"
    }
   ],
   "source": [
    "# Defining the model\n",
    "model = tf.keras.Sequential([\n",
    "    tf.keras.layers.Dense(units=1, activation='sigmoid', input_shape=(3,))\n",
    "])\n",
    "\n",
    "# Compiling the model\n",
    "model.compile(optimizer='adam', loss='binary_crossentropy', metrics=['accuracy'])\n",
    "\n",
    "# Training the model\n",
    "history = model.fit(X, Y, epochs=1000, verbose=0)\n",
    "\n",
    "# Plotting Graph\n",
    "plt.title(\"Model Loss\")\n",
    "plt.plot(history.history['loss'])\n",
    "plt.xlabel('Epochs')\n",
    "plt.ylabel('Loss')\n",
    "plt.show()"
   ]
  },
  {
   "cell_type": "markdown",
   "metadata": {},
   "source": [
    "#### This part of the code prints the predictions made by the trained neural network model for each input instance in the dataset X, along with the corresponding actual output labels Y. It iterates through each prediction and prints the input features, predicted output, and actual output for comparison."
   ]
  },
  {
   "cell_type": "code",
   "execution_count": 27,
   "metadata": {
    "colab": {
     "base_uri": "https://localhost:8080/"
    },
    "id": "TPsfbGyI4qM7",
    "outputId": "90d51e74-985c-400f-8838-4c5d8f99ae54"
   },
   "outputs": [
    {
     "name": "stdout",
     "output_type": "stream",
     "text": [
      "1/1 [==============================] - 0s 40ms/step\n",
      "Input : [1. 1. 1.] \t | Predicted Output: [0.75089014] \t | Actual Output: 1.0\n",
      "Input : [1.5 1.5 1.2] \t | Predicted Output: [0.86398995] \t | Actual Output: 1.0\n",
      "Input : [1.7 2.1 0.9] \t | Predicted Output: [0.9047191] \t | Actual Output: 1.0\n",
      "Input : [1.4 1.8 1.1] \t | Predicted Output: [0.8687403] \t | Actual Output: 1.0\n",
      "Input : [-2. -2.  5.] \t | Predicted Output: [0.12279389] \t | Actual Output: 0.0\n",
      "Input : [-2.1 -1.7  5.5] \t | Predicted Output: [0.14637849] \t | Actual Output: 0.0\n",
      "Input : [-2.5 -2.5  6. ] \t | Predicted Output: [0.08410115] \t | Actual Output: 0.0\n",
      "Input : [-1.7 -1.9  5.8] \t | Predicted Output: [0.1917593] \t | Actual Output: 0.0\n"
     ]
    }
   ],
   "source": [
    "predictions=model.predict(X)\n",
    "for i in range(len(predictions)):\n",
    "  print(\"Input :\",X[i],\"\\t\",\"|\",\"Predicted Output:\",predictions[i],\"\\t\",\"|\",\"Actual Output:\",Y[i])"
   ]
  },
  {
   "cell_type": "markdown",
   "metadata": {
    "id": "0qb2Bbk45WFw"
   },
   "source": [
    "# Question 2: Three Layer Neural Network"
   ]
  },
  {
   "cell_type": "markdown",
   "metadata": {
    "id": "k9_J3Rad5pQ1"
   },
   "source": [
    "#### This part of the code initializes three arrays X1, X2, and X3, representing different features of a dataset. These arrays contain float32 values and are then combined column-wise into a single dataset array X using np.column_stack()."
   ]
  },
  {
   "cell_type": "code",
   "execution_count": 28,
   "metadata": {
    "id": "mGCHNno755hG"
   },
   "outputs": [],
   "source": [
    "# Declaring the Inputs\n",
    "X1 = np.array([1, -1, -1, -1, 1, -1, 0, 0, 0, 0], dtype=np.float32)\n",
    "X2 = np.array([1, 1, 1, -1, 0, 0, 1, -1, 0, 0], dtype=np.float32)\n",
    "X3 = np.array([1, 1, -1, -1, 0, 0, 0, 0, 1, -1], dtype=np.float32)\n",
    "\n",
    "# Combining the feature arrays into a single dataset array X\n",
    "X = np.column_stack((X1, X2, X3))\n"
   ]
  },
  {
   "cell_type": "markdown",
   "metadata": {
    "id": "tSBVm8VA5pbi"
   },
   "source": [
    "#### This section of the code initializes an array Y to represent the target variable for the dataset. It contains binary labels indicating two classes, with the data type specified as float32."
   ]
  },
  {
   "cell_type": "code",
   "execution_count": 29,
   "metadata": {
    "id": "328pm_i77FIE"
   },
   "outputs": [],
   "source": [
    "# Defining the target variable\n",
    "Y = np.array([0, 0, 0, 0, 1, 1, 1, 1, 1, 1], dtype=np.float32)\n"
   ]
  },
  {
   "cell_type": "markdown",
   "metadata": {
    "id": "FmlgsmAi7P4h"
   },
   "source": [
    "#### This code snippet checks the shape of the dataset array X,  The shape of X represents the number of rows (instances) and columns (features) in the dataset."
   ]
  },
  {
   "cell_type": "code",
   "execution_count": 30,
   "metadata": {
    "colab": {
     "base_uri": "https://localhost:8080/"
    },
    "id": "KllMSJHS7SU1",
    "outputId": "45adee30-b876-4108-9df0-cb87ab9b9e99"
   },
   "outputs": [
    {
     "data": {
      "text/plain": [
       "(10, 3)"
      ]
     },
     "execution_count": 30,
     "metadata": {},
     "output_type": "execute_result"
    }
   ],
   "source": [
    "# Checking the shape of the dataset array X\n",
    "X.shape\n"
   ]
  },
  {
   "cell_type": "markdown",
   "metadata": {},
   "source": [
    "#### This line of code checks the shape of array Y, will provide a tuple indicating the dimensions of array Y, and since Y is a one-dimensional array, the second element of the tuple will be empty."
   ]
  },
  {
   "cell_type": "code",
   "execution_count": 31,
   "metadata": {
    "colab": {
     "base_uri": "https://localhost:8080/"
    },
    "id": "Fowb6Z-U7V15",
    "outputId": "f517164d-a00d-4e13-b796-55cef0c0a1a1"
   },
   "outputs": [
    {
     "data": {
      "text/plain": [
       "(10,)"
      ]
     },
     "execution_count": 31,
     "metadata": {},
     "output_type": "execute_result"
    }
   ],
   "source": [
    "# Checking the shape of Y\n",
    "Y.shape\n"
   ]
  },
  {
   "cell_type": "markdown",
   "metadata": {},
   "source": [
    "#### In this code block, a three-layer neural network model is defined using TensorFlow's Keras API. The model consists of one input layer, two hidden layers with 3 and 5 units respectively, and one output layer with 1 unit. Each hidden layer uses the ReLU activation function, while the output layer uses the sigmoid activation function for binary classification. The model is compiled with the Adam optimizer and binary cross-entropy loss function. It is then trained on the dataset X with corresponding labels Y for 1000 epochs. Finally, the loss curve over epochs is plotted to visualize the training process."
   ]
  },
  {
   "cell_type": "code",
   "execution_count": 32,
   "metadata": {
    "id": "V4Okmdc47WAG"
   },
   "outputs": [
    {
     "data": {
      "image/png": "[encoded data removed]",
      "text/plain": [
       "<Figure size 640x480 with 1 Axes>"
      ]
     },
     "metadata": {},
     "output_type": "display_data"
    }
   ],
   "source": [
    "# Defining the model architecture\n",
    "model = tf.keras.Sequential([\n",
    "    tf.keras.layers.Dense(units=3, activation='relu', input_shape=(3,)),\n",
    "    tf.keras.layers.Dense(units=5, activation='relu'),\n",
    "    tf.keras.layers.Dense(units=1, activation='sigmoid')\n",
    "])\n",
    "\n",
    "# Compiling the model\n",
    "model.compile(optimizer='adam', loss='binary_crossentropy', metrics=['accuracy'])\n",
    "\n",
    "# Training the model\n",
    "history = model.fit(X, Y, epochs=1000, verbose=0)\n",
    "\n",
    "# Plotting the loss curve\n",
    "plt.title('Model Loss')\n",
    "plt.plot(history.history['loss'])\n",
    "plt.xlabel('Epoch')\n",
    "plt.ylabel('Loss')\n",
    "plt.show()\n"
   ]
  },
  {
   "cell_type": "markdown",
   "metadata": {},
   "source": [
    "#### This section of the code generates predictions using the trained model for each input instance in the dataset X. It then iterates through each prediction and prints the input features, predicted output, and actual output for comparison. This allows us to evaluate how well the model performs on the dataset."
   ]
  },
  {
   "cell_type": "code",
   "execution_count": 34,
   "metadata": {
    "colab": {
     "base_uri": "https://localhost:8080/"
    },
    "id": "8cMVpqFzEhBK",
    "outputId": "fca32fe9-e019-458e-e49e-5c61e9b76f29"
   },
   "outputs": [
    {
     "name": "stdout",
     "output_type": "stream",
     "text": [
      "1/1 [==============================] - 0s 22ms/step\n",
      "Input : [1. 1. 1.] \t | Predicted Output : [0.09747871] \t | Actual Output : 0.0\n",
      "Input : [-1.  1.  1.] \t | Predicted Output : [0.1639179] \t | Actual Output : 0.0\n",
      "Input : [-1.  1. -1.] \t | Predicted Output : [0.1417036] \t | Actual Output : 0.0\n",
      "Input : [-1. -1. -1.] \t | Predicted Output : [0.5809667] \t | Actual Output : 0.0\n",
      "Input : [1. 0. 0.] \t | Predicted Output : [0.99139273] \t | Actual Output : 1.0\n",
      "Input : [-1.  0.  0.] \t | Predicted Output : [0.69359624] \t | Actual Output : 1.0\n",
      "Input : [0. 1. 0.] \t | Predicted Output : [0.92271274] \t | Actual Output : 1.0\n",
      "Input : [ 0. -1.  0.] \t | Predicted Output : [0.83037615] \t | Actual Output : 1.0\n",
      "Input : [0. 0. 1.] \t | Predicted Output : [0.6029199] \t | Actual Output : 1.0\n",
      "Input : [ 0.  0. -1.] \t | Predicted Output : [0.98525375] \t | Actual Output : 1.0\n"
     ]
    }
   ],
   "source": [
    "# Generating predictions\n",
    "predictions=model.predict(X)\n",
    "\n",
    "# Printing predictions and actual outputs\n",
    "for i in range(len(X)):\n",
    "  print(\"Input :\", X[i], \"\\t\",\"|\", \"Predicted Output :\", predictions[i],\"\\t\",\"|\",\"Actual Output :\",Y[i])"
   ]
  }
 ],
 "metadata": {
  "colab": {
   "provenance": [],
   "toc_visible": true
  },
  "kernelspec": {
   "display_name": "Python 3 (ipykernel)",
   "language": "python",
   "name": "python3"
  },
  "language_info": {
   "codemirror_mode": {
    "name": "ipython",
    "version": 3
   },
   "file_extension": ".py",
   "mimetype": "text/x-python",
   "name": "python",
   "nbconvert_exporter": "python",
   "pygments_lexer": "ipython3",
   "version": "3.11.5"
  }
 },
 "nbformat": 4,
 "nbformat_minor": 1
}
